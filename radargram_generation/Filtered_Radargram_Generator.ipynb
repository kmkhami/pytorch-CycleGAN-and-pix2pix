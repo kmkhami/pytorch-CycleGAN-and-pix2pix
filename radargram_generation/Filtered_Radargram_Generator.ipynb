{
 "cells": [
  {
   "cell_type": "markdown",
   "metadata": {},
   "source": [
    "<p align=\"center\">\n",
    "    <img src=\"https://github.com/jessepisel/energy_analytics/blob/master/EA_logo.jpg?raw=true\" width=\"220\" height=\"240\" />\n",
    "\n",
    "</p>\n",
    "\n",
    "# Filtered Radargram Generation Notebook\n",
    "## Freshman Research Initiative Energy Analytics CS 309\n",
    "\n",
    "#### GAN Team A, UT Austin "
   ]
  },
  {
   "cell_type": "code",
   "execution_count": 1,
   "metadata": {},
   "outputs": [],
   "source": [
    "import numpy as np\n",
    "import netCDF4 as nc\n",
    "import glob\n",
    "import os\n",
    "from PIL import Image\n",
    "from os import listdir, getcwd\n",
    "from os.path import isdir, join, dirname, split\n",
    "from impdar.lib.plot import plot_traces, plot_radargram\n",
    "from impdar.lib import load, process\n",
    "import matplotlib.pyplot as plt\n",
    "%matplotlib inline "
   ]
  },
  {
   "cell_type": "markdown",
   "metadata": {},
   "source": [
    "This function serves the purpose of determing whether or not a particular variable is present in a list"
   ]
  },
  {
   "cell_type": "code",
   "execution_count": 2,
   "metadata": {},
   "outputs": [],
   "source": [
    "def is_present(var_name, variables): \n",
    "    for name in variables: \n",
    "        if(var_name == name):\n",
    "            return True \n",
    "    return False"
   ]
  },
  {
   "cell_type": "markdown",
   "metadata": {},
   "source": [
    "The below function actually creates the filtered radargrams through the IMPDar package. Before filtering, the is_present function is used to check if the amplitude_high_gain column needs to be renamed with the netCDF package. Then, once filtered, the images the radargrams are saved as png files. "
   ]
  },
  {
   "cell_type": "code",
   "execution_count": 3,
   "metadata": {},
   "outputs": [],
   "source": [
    "def create_filtered_radargram(file_path, file_name): \n",
    "    ds = nc.Dataset(file_path, mode='a')\n",
    "    if(is_present('amplitude_high_gain', ds.variables)): \n",
    "        ds.renameVariable('amplitude_high_gain', 'amplitude')\n",
    "        ds.sync()\n",
    "        ds.close()\n",
    "        ds = nc.Dataset(file_path, mode=\"a\")\n",
    "    if(is_present('amplitude', ds.variables)):\n",
    "        ds.variables['amplitude'].matlab_size = ds.variables['amplitude'].shape[::-1]\n",
    "        ds.sync()\n",
    "        ds.close()\n",
    "        data = load.load('mcords_nc', file_path)\n",
    "        process.process(data, denoise=[True], hfilt=[0, 15], vbp=[1, 10])\n",
    "        figure = plt.figure()\n",
    "        ax = plt.gca()\n",
    "        ax.axes.xaxis.set_visible(False)\n",
    "        ax.axes.yaxis.set_visible(False)\n",
    "        plot_radargram(data[0], fig=figure)\n",
    "        figure.savefig(\"filtered_images/\"+os.path.splitext(file_name)[0]+\"_FILTERED.png\", bbox_inches='tight', pad_inches=0)"
   ]
  },
  {
   "cell_type": "markdown",
   "metadata": {},
   "source": [
    "This loop then iterates over all the folders and then all of the files to find the entire domain of raw data and finally calls the create_filtered_radargram function to process it. "
   ]
  },
  {
   "cell_type": "code",
   "execution_count": 4,
   "metadata": {
    "scrolled": true
   },
   "outputs": [],
   "source": [
    "path = join(dirname(getcwd()),'data')\n",
    "dirs = listdir(path)\n",
    "for folder in dirs:\n",
    "    tmp_path = join(path, folder)\n",
    "    if isdir(tmp_path):\n",
    "        files = listdir(tmp_path)\n",
    "        for file in files:\n",
    "            if file.endswith(\".nc\"):\n",
    "                create_filtered_radargram(join(tmp_path, file), file)"
   ]
  }
 ],
 "metadata": {
  "kernelspec": {
   "display_name": "Python 3",
   "language": "python",
   "name": "python3"
  },
  "language_info": {
   "codemirror_mode": {
    "name": "ipython",
    "version": 3
   },
   "file_extension": ".py",
   "mimetype": "text/x-python",
   "name": "python",
   "nbconvert_exporter": "python",
   "pygments_lexer": "ipython3",
   "version": "3.8.5"
  }
 },
 "nbformat": 4,
 "nbformat_minor": 4
}
