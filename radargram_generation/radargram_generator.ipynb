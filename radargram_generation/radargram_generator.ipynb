{
 "cells": [
  {
   "cell_type": "markdown",
   "metadata": {},
   "source": [
    "<p align=\"center\">\n",
    "    <img src=\"https://github.com/jessepisel/energy_analytics/blob/master/EA_logo.jpg?raw=true\" width=\"220\" height=\"240\" />\n",
    "\n",
    "</p>\n",
    "\n",
    "# Radargram Generator\n",
    "## Freshman Research Initiative Energy Analytics CS 309\n",
    "\n",
    "#### GAN Team A, UT Austin"
   ]
  },
  {
   "cell_type": "code",
   "execution_count": 1,
   "metadata": {},
   "outputs": [],
   "source": [
    "import numpy as np\n",
    "import netCDF4 as nc\n",
    "from PIL import Image\n",
    "from os import listdir, getcwd\n",
    "from os.path import isdir, join, dirname, split"
   ]
  },
  {
   "cell_type": "markdown",
   "metadata": {},
   "source": [
    "First, we find all of the file paths for the netCDF4 data files"
   ]
  },
  {
   "cell_type": "code",
   "execution_count": 2,
   "metadata": {},
   "outputs": [],
   "source": [
    "path = join(dirname(getcwd()),'data')\n",
    "dirs = listdir(path)"
   ]
  },
  {
   "cell_type": "markdown",
   "metadata": {},
   "source": [
    "The below function then takes the raw data, processes it with the netCDF4 package. Finally, it normalizes the elements of the array and uses the values to save a gray-scale image. "
   ]
  },
  {
   "cell_type": "code",
   "execution_count": 3,
   "metadata": {},
   "outputs": [],
   "source": [
    "def create_radargram(file_path):\n",
    "    _, file_name = split(file_path)\n",
    "    file_name = file_name[:-3]\n",
    "    max_gain = 100\n",
    "    ds = nc.Dataset(file_path)\n",
    "    low_gain = np.asarray(ds['amplitude_low_gain'])\n",
    "    high_gain = np.asarray(ds['amplitude_high_gain'])\n",
    "    low_gain = 255 * (low_gain-np.amin(low_gain))/(np.amax(low_gain) - np.amin(low_gain))\n",
    "    high_gain = 255 * (high_gain-np.amin(high_gain))/(np.amax(high_gain) - np.amin(high_gain))\n",
    "    Image.fromarray(low_gain.T).convert(\"L\").save(\"images/\"+file_name+\"_LOW.png\")\n",
    "    high_img = Image.fromarray(high_gain.T).convert(\"L\").save(\"images/\"+file_name+\"_HIGH.png\")"
   ]
  },
  {
   "cell_type": "markdown",
   "metadata": {},
   "source": [
    "This loop then iterates over all the folders and then all of the files to find the entire domain of raw data and finally calls the create_radargram function to process it. "
   ]
  },
  {
   "cell_type": "code",
   "execution_count": 4,
   "metadata": {},
   "outputs": [],
   "source": [
    "for folder in dirs:\n",
    "    tmp_path = join(path, folder)\n",
    "    if isdir(tmp_path):\n",
    "        files = listdir(tmp_path)\n",
    "        for file in files:\n",
    "            if file.endswith(\".nc\"):\n",
    "                create_radargram(join(tmp_path, file))"
   ]
  }
 ],
 "metadata": {
  "kernelspec": {
   "display_name": "Python 3",
   "language": "python",
   "name": "python3"
  },
  "language_info": {
   "codemirror_mode": {
    "name": "ipython",
    "version": 3
   },
   "file_extension": ".py",
   "mimetype": "text/x-python",
   "name": "python",
   "nbconvert_exporter": "python",
   "pygments_lexer": "ipython3",
   "version": "3.8.5"
  }
 },
 "nbformat": 4,
 "nbformat_minor": 4
}
